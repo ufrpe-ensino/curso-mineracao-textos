{
  "nbformat": 4,
  "nbformat_minor": 0,
  "metadata": {
    "colab": {
      "name": "10_IndexandoDocumentos.ipynb",
      "provenance": [],
      "toc_visible": true,
      "authorship_tag": "ABX9TyNXjRzNP8HhCPMYXkAAPgMy",
      "include_colab_link": true
    },
    "kernelspec": {
      "name": "python3",
      "display_name": "Python 3"
    }
  },
  "cells": [
    {
      "cell_type": "markdown",
      "metadata": {
        "id": "view-in-github",
        "colab_type": "text"
      },
      "source": [
        "<a href=\"https://colab.research.google.com/github/ufrpe-ensino/curso-mineracao-textos/blob/master/11_IndexandoDocumentos.ipynb\" target=\"_parent\"><img src=\"https://colab.research.google.com/assets/colab-badge.svg\" alt=\"Open In Colab\"/></a>"
      ]
    },
    {
      "cell_type": "markdown",
      "metadata": {
        "id": "Ox6bCFETcFIR"
      },
      "source": [
        "# Indexando diferentes tipos de documentos\n",
        "\n",
        "Tem uma coleção de documentos? Documentos do Word, arquivos HTML, PDFs, PDFs baseados em imagens e mais alguma coisa? Não se preocupe, o Apache [Tika](https://tika.apache.org) tem tudo para você."
      ]
    },
    {
      "cell_type": "markdown",
      "metadata": {
        "id": "mFVDVp1xfMF-"
      },
      "source": [
        "# Extraindo Texto de Documentos"
      ]
    },
    {
      "cell_type": "markdown",
      "metadata": {
        "id": "BQY-bt51cYi3"
      },
      "source": [
        "## Instalação\n",
        "O ideal é ter um servidor dedicado ao serviço de OCR. No nosso caso, utilizaremos o próprio colab como servidor. Primeiro precisamos instalar o wrapper python para o Tika"
      ]
    },
    {
      "cell_type": "code",
      "metadata": {
        "id": "FtC8_22ib4Yb",
        "colab": {
          "base_uri": "https://localhost:8080/"
        },
        "outputId": "02c923f0-e383-49cb-93d7-625be7253785"
      },
      "source": [
        "!apt-get update\n",
        "!apt-get install tesseract-ocr\n",
        "!apt-get install tesseract-ocr-por"
      ],
      "execution_count": 1,
      "outputs": [
        {
          "output_type": "stream",
          "name": "stdout",
          "text": [
            "\r0% [Working]\r            \rHit:1 http://archive.ubuntu.com/ubuntu bionic InRelease\n",
            "\r0% [Waiting for headers] [Connecting to cloud.r-project.org (13.227.219.75)] [W\r                                                                               \rGet:2 http://archive.ubuntu.com/ubuntu bionic-updates InRelease [88.7 kB]\n",
            "\r                                                                               \rGet:3 http://security.ubuntu.com/ubuntu bionic-security InRelease [88.7 kB]\n",
            "\r                                                                               \rGet:4 http://ppa.launchpad.net/c2d4u.team/c2d4u4.0+/ubuntu bionic InRelease [15.9 kB]\n",
            "\r                                                                               \rHit:5 http://ppa.launchpad.net/cran/libgit2/ubuntu bionic InRelease\n",
            "\r0% [Waiting for headers] [Connected to cloud.r-project.org (13.227.219.75)] [Wa\r                                                                               \rGet:6 http://archive.ubuntu.com/ubuntu bionic-backports InRelease [74.6 kB]\n",
            "\r                                                                               \rGet:7 http://ppa.launchpad.net/deadsnakes/ppa/ubuntu bionic InRelease [15.9 kB]\n",
            "\r0% [1 InRelease gpgv 242 kB] [6 InRelease 34.5 kB/74.6 kB 46%] [Connected to cl\r0% [1 InRelease gpgv 242 kB] [Waiting for headers] [7 InRelease 14.2 kB/15.9 kB\r                                                                               \rGet:8 https://cloud.r-project.org/bin/linux/ubuntu bionic-cran40/ InRelease [3,626 B]\n",
            "Hit:9 http://ppa.launchpad.net/graphics-drivers/ppa/ubuntu bionic InRelease\n",
            "Ign:10 https://developer.download.nvidia.com/compute/cuda/repos/ubuntu1804/x86_64  InRelease\n",
            "Ign:11 https://developer.download.nvidia.com/compute/machine-learning/repos/ubuntu1804/x86_64  InRelease\n",
            "Hit:12 https://developer.download.nvidia.com/compute/cuda/repos/ubuntu1804/x86_64  Release\n",
            "Hit:13 https://developer.download.nvidia.com/compute/machine-learning/repos/ubuntu1804/x86_64  Release\n",
            "Get:14 http://archive.ubuntu.com/ubuntu bionic-updates/restricted amd64 Packages [942 kB]\n",
            "Get:15 http://archive.ubuntu.com/ubuntu bionic-updates/universe amd64 Packages [2,272 kB]\n",
            "Get:16 http://archive.ubuntu.com/ubuntu bionic-updates/main amd64 Packages [3,167 kB]\n",
            "Get:17 http://security.ubuntu.com/ubuntu bionic-security/universe amd64 Packages [1,496 kB]\n",
            "Get:18 http://security.ubuntu.com/ubuntu bionic-security/restricted amd64 Packages [907 kB]\n",
            "Get:19 http://security.ubuntu.com/ubuntu bionic-security/main amd64 Packages [2,728 kB]\n",
            "Get:20 http://ppa.launchpad.net/c2d4u.team/c2d4u4.0+/ubuntu bionic/main Sources [1,949 kB]\n",
            "Get:21 http://ppa.launchpad.net/c2d4u.team/c2d4u4.0+/ubuntu bionic/main amd64 Packages [999 kB]\n",
            "Get:22 http://ppa.launchpad.net/deadsnakes/ppa/ubuntu bionic/main amd64 Packages [45.3 kB]\n",
            "Fetched 14.8 MB in 4s (4,165 kB/s)\n",
            "Reading package lists... Done\n",
            "Reading package lists... Done\n",
            "Building dependency tree       \n",
            "Reading state information... Done\n",
            "The following additional packages will be installed:\n",
            "  tesseract-ocr-eng tesseract-ocr-osd\n",
            "The following NEW packages will be installed:\n",
            "  tesseract-ocr tesseract-ocr-eng tesseract-ocr-osd\n",
            "0 upgraded, 3 newly installed, 0 to remove and 56 not upgraded.\n",
            "Need to get 4,795 kB of archives.\n",
            "After this operation, 15.8 MB of additional disk space will be used.\n",
            "Get:1 http://archive.ubuntu.com/ubuntu bionic/universe amd64 tesseract-ocr-eng all 4.00~git24-0e00fe6-1.2 [1,588 kB]\n",
            "Get:2 http://archive.ubuntu.com/ubuntu bionic/universe amd64 tesseract-ocr-osd all 4.00~git24-0e00fe6-1.2 [2,989 kB]\n",
            "Get:3 http://archive.ubuntu.com/ubuntu bionic/universe amd64 tesseract-ocr amd64 4.00~git2288-10f4998a-2 [218 kB]\n",
            "Fetched 4,795 kB in 0s (21.5 MB/s)\n",
            "Selecting previously unselected package tesseract-ocr-eng.\n",
            "(Reading database ... 155501 files and directories currently installed.)\n",
            "Preparing to unpack .../tesseract-ocr-eng_4.00~git24-0e00fe6-1.2_all.deb ...\n",
            "Unpacking tesseract-ocr-eng (4.00~git24-0e00fe6-1.2) ...\n",
            "Selecting previously unselected package tesseract-ocr-osd.\n",
            "Preparing to unpack .../tesseract-ocr-osd_4.00~git24-0e00fe6-1.2_all.deb ...\n",
            "Unpacking tesseract-ocr-osd (4.00~git24-0e00fe6-1.2) ...\n",
            "Selecting previously unselected package tesseract-ocr.\n",
            "Preparing to unpack .../tesseract-ocr_4.00~git2288-10f4998a-2_amd64.deb ...\n",
            "Unpacking tesseract-ocr (4.00~git2288-10f4998a-2) ...\n",
            "Setting up tesseract-ocr-osd (4.00~git24-0e00fe6-1.2) ...\n",
            "Setting up tesseract-ocr-eng (4.00~git24-0e00fe6-1.2) ...\n",
            "Setting up tesseract-ocr (4.00~git2288-10f4998a-2) ...\n",
            "Processing triggers for man-db (2.8.3-2ubuntu0.1) ...\n",
            "Reading package lists... Done\n",
            "Building dependency tree       \n",
            "Reading state information... Done\n",
            "The following NEW packages will be installed:\n",
            "  tesseract-ocr-por\n",
            "0 upgraded, 1 newly installed, 0 to remove and 56 not upgraded.\n",
            "Need to get 856 kB of archives.\n",
            "After this operation, 1,998 kB of additional disk space will be used.\n",
            "Get:1 http://archive.ubuntu.com/ubuntu bionic/universe amd64 tesseract-ocr-por all 4.00~git24-0e00fe6-1.2 [856 kB]\n",
            "Fetched 856 kB in 0s (7,821 kB/s)\n",
            "Selecting previously unselected package tesseract-ocr-por.\n",
            "(Reading database ... 155548 files and directories currently installed.)\n",
            "Preparing to unpack .../tesseract-ocr-por_4.00~git24-0e00fe6-1.2_all.deb ...\n",
            "Unpacking tesseract-ocr-por (4.00~git24-0e00fe6-1.2) ...\n",
            "Setting up tesseract-ocr-por (4.00~git24-0e00fe6-1.2) ...\n"
          ]
        }
      ]
    },
    {
      "cell_type": "code",
      "metadata": {
        "id": "aGa9hU4QcpAJ",
        "colab": {
          "base_uri": "https://localhost:8080/"
        },
        "outputId": "b1a7a32e-b769-4b47-b9c8-d2fbf121043c"
      },
      "source": [
        "!pip install tika"
      ],
      "execution_count": 2,
      "outputs": [
        {
          "output_type": "stream",
          "name": "stdout",
          "text": [
            "Collecting tika\n",
            "  Downloading tika-1.24.tar.gz (28 kB)\n",
            "Requirement already satisfied: setuptools in /usr/local/lib/python3.7/dist-packages (from tika) (57.4.0)\n",
            "Requirement already satisfied: requests in /usr/local/lib/python3.7/dist-packages (from tika) (2.23.0)\n",
            "Requirement already satisfied: urllib3!=1.25.0,!=1.25.1,<1.26,>=1.21.1 in /usr/local/lib/python3.7/dist-packages (from requests->tika) (1.24.3)\n",
            "Requirement already satisfied: certifi>=2017.4.17 in /usr/local/lib/python3.7/dist-packages (from requests->tika) (2021.10.8)\n",
            "Requirement already satisfied: chardet<4,>=3.0.2 in /usr/local/lib/python3.7/dist-packages (from requests->tika) (3.0.4)\n",
            "Requirement already satisfied: idna<3,>=2.5 in /usr/local/lib/python3.7/dist-packages (from requests->tika) (2.10)\n",
            "Building wheels for collected packages: tika\n",
            "  Building wheel for tika (setup.py) ... \u001b[?25l\u001b[?25hdone\n",
            "  Created wheel for tika: filename=tika-1.24-py3-none-any.whl size=32893 sha256=4dba1bbaf30b708d3420e46cb85e77a48f395478e40e9d1dd72af18f95c71a5f\n",
            "  Stored in directory: /root/.cache/pip/wheels/ec/2b/38/58ff05467a742e32f67f5d0de048fa046e764e2fbb25ac93f3\n",
            "Successfully built tika\n",
            "Installing collected packages: tika\n",
            "Successfully installed tika-1.24\n"
          ]
        }
      ]
    },
    {
      "cell_type": "markdown",
      "metadata": {
        "id": "xAqrtcnndLv5"
      },
      "source": [
        "## Baixando alguns documentos\n",
        "\n",
        "* pdf: https://data.ct.gov/download/fxjv-82m6/application/pdf\n",
        "* doc: https://pasteur.epa.gov/uploads/10.23719/1500001/LDPE_nanoclay_Highlights_.docx\n",
        "* png for OCR: https://upload.wikimedia.org/wikipedia/commons/5/5f/Dr._Jekyll_and_Mr._Hyde_Text.jpg\n"
      ]
    },
    {
      "cell_type": "code",
      "metadata": {
        "id": "WP2dEQr9dWpQ",
        "colab": {
          "base_uri": "https://localhost:8080/"
        },
        "outputId": "c64f9399-c6f2-4f24-8302-63c4d1754e76"
      },
      "source": [
        "!curl -O https://upload.wikimedia.org/wikipedia/commons/5/5f/Dr._Jekyll_and_Mr._Hyde_Text.jpg"
      ],
      "execution_count": 3,
      "outputs": [
        {
          "output_type": "stream",
          "name": "stdout",
          "text": [
            "  % Total    % Received % Xferd  Average Speed   Time    Time     Time  Current\n",
            "                                 Dload  Upload   Total   Spent    Left  Speed\n",
            "\r  0     0    0     0    0     0      0      0 --:--:-- --:--:-- --:--:--     0\r100  822k  100  822k    0     0  10.2M      0 --:--:-- --:--:-- --:--:-- 10.2M\n"
          ]
        }
      ]
    },
    {
      "cell_type": "markdown",
      "metadata": {
        "id": "1GY5UqvzdUrZ"
      },
      "source": [
        "![](https://upload.wikimedia.org/wikipedia/commons/5/5f/Dr._Jekyll_and_Mr._Hyde_Text.jpg)"
      ]
    },
    {
      "cell_type": "markdown",
      "metadata": {
        "id": "FAabgABmdqIv"
      },
      "source": [
        "## Testando o tessract via linha de comando"
      ]
    },
    {
      "cell_type": "code",
      "metadata": {
        "id": "pn72xI7EdmzS",
        "colab": {
          "base_uri": "https://localhost:8080/"
        },
        "outputId": "a51db100-9891-47f4-f2c2-6cef6f745a7a"
      },
      "source": [
        "!tesseract Dr._Jekyll_and_Mr._Hyde_Text.jpg stdout"
      ],
      "execution_count": 4,
      "outputs": [
        {
          "output_type": "stream",
          "name": "stdout",
          "text": [
            "at his touch ofa certain icy pang along my blood. “Come, sir,’ said I.\n",
            "“You forget that I have not yet the pleasure of your acquaintance. Be\n",
            "seated, if you please.” And I showed him an example, and sat down\n",
            "myself in my customary seat and with as fair an imitation of my or-\n",
            "dinary manner to a patient, as the lateness of the hour, the nature of\n",
            "my preoccupations, and the horror I had of my visitor, would suffer\n",
            "me to muster.\n",
            "\n",
            "“I beg your pardon, Dr. Lanyon,” he replied civilly enough. “What\n",
            "you say is very well founded; and my impatience has shown its heels\n",
            "to my politeness. I come here at the instance of your colleague, Dr.\n",
            "Henry Jekyll, on a piece of business of some moment; and I under-\n",
            "stood...” He paused and put his hand to his throat, and I could see,\n",
            "in spite of his collected manner, that he was wrestling against the\n",
            "approaches of the hysteria—“I understood, a drawer...”\n",
            "\n",
            "But here I took pity on my visitor’s suspense, and some perhaps\n",
            "on my own growing curiosity.\n",
            "\n",
            "“There it is, sir,” said I, pointing to the drawer, where it lay on the\n",
            "floor behind a table and still covered with the sheet.\n",
            "\n",
            "He sprang to it, and then paused, and laid his hand upon his\n",
            "heart: I could hear his teeth grate with the convulsive action of his\n",
            "jaws; and his face was so ghastly to see that I grew alarmed both for\n",
            "his life and reason.\n",
            "\n",
            "“Compose yourself,’ said I.\n",
            "\n",
            "He turned a dreadful smile to me, and as if with the decision of\n",
            "despair, plucked away the sheet. At sight of the contents, he uttered\n",
            "one loud sob of such immense relief that I sat petrified. And the\n",
            "next moment, in a voice that was already fairly well under control,\n",
            "“Have you a graduated glass?” he asked.\n",
            "\n",
            "I rose from my place with something of an effort and gave him\n",
            "what he asked.\n",
            "\n",
            "He thanked me with a smiling nod, measured out a few min-\n",
            "ims of the red tincture and added one of the powders. The mix-\n",
            "ture, which was at first of a reddish hue, began, in proportion as the\n",
            "\f"
          ]
        }
      ]
    },
    {
      "cell_type": "markdown",
      "metadata": {
        "id": "d9BCXKUGdmRH"
      },
      "source": [
        "## Usando o Tika\n",
        "### Inicializando o serviço"
      ]
    },
    {
      "cell_type": "code",
      "metadata": {
        "id": "1XI7eOJtdHg9"
      },
      "source": [
        "import tika\n",
        "import requests\n",
        "from tika import parser\n",
        "\n",
        "# Start running the tika service\n",
        "tika.initVM()"
      ],
      "execution_count": 5,
      "outputs": []
    },
    {
      "cell_type": "markdown",
      "metadata": {
        "id": "_qkc_FZcdKvi"
      },
      "source": [
        "## Parsing!\n",
        "Existem duas maneiras de fazer isso!\n",
        "\n",
        "**Direto da web**\n",
        "\n",
        "```python\n",
        "response = requests.get(...)\n",
        "results = parser.from_buffer(response.content)\n",
        "```\n",
        "\n",
        "**De um arquivo local**\n",
        "\n",
        "```python\n",
        "results = parser.from_file(filename)\n",
        "```\n",
        "\n",
        "Observe que se você deseja fazer OCR em outro idioma, é necessário mudar um pouco as coisas. O que está abaixo para grego. Veja o que seu tesseract suporta com `tesseract --list-langs`\n",
        "\n",
        "```python\n",
        "headers = {\n",
        "    \"X-Tika-OCRLanguage\": \"por\"\n",
        "}\n",
        "results = parser.from_buffer(response.content, headers=headers)\n",
        "```"
      ]
    },
    {
      "cell_type": "code",
      "metadata": {
        "id": "uhwp5d_6eURI",
        "colab": {
          "base_uri": "https://localhost:8080/"
        },
        "outputId": "e917fa4b-d83d-43e6-abff-140d97f7cdb8"
      },
      "source": [
        "!tesseract --list-langs"
      ],
      "execution_count": 6,
      "outputs": [
        {
          "output_type": "stream",
          "name": "stdout",
          "text": [
            "List of available languages (3):\n",
            "eng\n",
            "por\n",
            "osd\n"
          ]
        }
      ]
    },
    {
      "cell_type": "markdown",
      "metadata": {
        "id": "FNEmsQWteah8"
      },
      "source": [
        "## Exemplo: PDF"
      ]
    },
    {
      "cell_type": "code",
      "metadata": {
        "id": "pJbHsTBIeWU6",
        "colab": {
          "base_uri": "https://localhost:8080/"
        },
        "outputId": "ce1086ea-4303-44a0-d692-2bcf2e11ae67"
      },
      "source": [
        "response = requests.get('https://data.ct.gov/download/fxjv-82m6/application/pdf')\n",
        "results = parser.from_buffer(response)"
      ],
      "execution_count": 7,
      "outputs": [
        {
          "output_type": "stream",
          "name": "stderr",
          "text": [
            "2022-04-25 12:26:46,413 [MainThread  ] [INFO ]  Retrieving http://search.maven.org/remotecontent?filepath=org/apache/tika/tika-server/1.24/tika-server-1.24.jar to /tmp/tika-server.jar.\n",
            "2022-04-25 12:26:46,928 [MainThread  ] [INFO ]  Retrieving http://search.maven.org/remotecontent?filepath=org/apache/tika/tika-server/1.24/tika-server-1.24.jar.md5 to /tmp/tika-server.jar.md5.\n",
            "2022-04-25 12:26:47,347 [MainThread  ] [WARNI]  Failed to see startup log message; retrying...\n"
          ]
        }
      ]
    },
    {
      "cell_type": "code",
      "metadata": {
        "id": "8o7p6zTHed0g",
        "colab": {
          "base_uri": "https://localhost:8080/"
        },
        "outputId": "6a79d0ed-6d52-4db7-d23c-6a06a20b3972"
      },
      "source": [
        "results.keys()"
      ],
      "execution_count": 8,
      "outputs": [
        {
          "output_type": "execute_result",
          "data": {
            "text/plain": [
              "dict_keys(['metadata', 'content', 'status'])"
            ]
          },
          "metadata": {},
          "execution_count": 8
        }
      ]
    },
    {
      "cell_type": "code",
      "metadata": {
        "id": "9qlHPKmHegIB",
        "colab": {
          "base_uri": "https://localhost:8080/"
        },
        "outputId": "822db2a6-6124-4669-9bbf-27ee747ea8d1"
      },
      "source": [
        "results['status']"
      ],
      "execution_count": 9,
      "outputs": [
        {
          "output_type": "execute_result",
          "data": {
            "text/plain": [
              "200"
            ]
          },
          "metadata": {},
          "execution_count": 9
        }
      ]
    },
    {
      "cell_type": "code",
      "metadata": {
        "id": "93dZKPVIeiMx",
        "colab": {
          "base_uri": "https://localhost:8080/",
          "height": 140
        },
        "outputId": "8fa07ef0-30ff-435b-8ec1-bb09b456f4ba"
      },
      "source": [
        "# Only showing the first 1000 chars\n",
        "results['content'][:1000]"
      ],
      "execution_count": 10,
      "outputs": [
        {
          "output_type": "execute_result",
          "data": {
            "text/plain": [
              "'\\n\\n\\n\\n\\n\\n\\n\\n\\n\\n\\n\\n\\n\\n\\n\\n\\n\\n\\n\\n\\n\\n\\n\\n\\n\\n\\n\\n\\n\\n\\n\\n\\n\\n\\n\\n\\n\\n\\n\\n\\n\\n\\n\\n\\n\\n \\n\\n  \\n\\n  \\n\\n \\n\\n \\n\\nConnecticut \\n\\nOpen Data \\n\\nPolicy \\nEffective April 22, 2015 \\n\\n \\n\\n \\n\\n \\n\\n \\n\\n \\n\\n \\n\\n \\n\\nPromulgated in accordance with and \\n\\nunder the authority of Executive \\n\\nOrder 39 of Governor Dannel P. \\n\\nMalloy \\n\\n \\n\\n  \\n\\n  \\n\\n \\n\\n  \\n \\n\\n  \\n\\n\\n\\n \\n\\n \\n\\nContents \\n\\n \\n\\n \\n1.0 Definitions .......................................................................................................................... 3 \\n\\n2.0  Introduction...................................................................................................................... 5 \\n\\n2.1  Intent ............................................................................................................................ 5 \\n\\n2.2  Scope ............................................................................................................................ 5 \\n\\n2.3  Legal Considerations .......................................................................................................'"
            ],
            "application/vnd.google.colaboratory.intrinsic+json": {
              "type": "string"
            }
          },
          "metadata": {},
          "execution_count": 10
        }
      ]
    },
    {
      "cell_type": "code",
      "metadata": {
        "id": "_X8rcz8nekci",
        "colab": {
          "base_uri": "https://localhost:8080/"
        },
        "outputId": "3a3a04fe-0cf0-4b45-d520-a98de6fe1206"
      },
      "source": [
        "# formatando quebras de linha\n",
        "print(results['content'][:1000].strip())"
      ],
      "execution_count": 11,
      "outputs": [
        {
          "output_type": "stream",
          "name": "stdout",
          "text": [
            "Connecticut \n",
            "\n",
            "Open Data \n",
            "\n",
            "Policy \n",
            "Effective April 22, 2015 \n",
            "\n",
            " \n",
            "\n",
            " \n",
            "\n",
            " \n",
            "\n",
            " \n",
            "\n",
            " \n",
            "\n",
            " \n",
            "\n",
            " \n",
            "\n",
            "Promulgated in accordance with and \n",
            "\n",
            "under the authority of Executive \n",
            "\n",
            "Order 39 of Governor Dannel P. \n",
            "\n",
            "Malloy \n",
            "\n",
            " \n",
            "\n",
            "  \n",
            "\n",
            "  \n",
            "\n",
            " \n",
            "\n",
            "  \n",
            " \n",
            "\n",
            "  \n",
            "\n",
            "\n",
            "\n",
            " \n",
            "\n",
            " \n",
            "\n",
            "Contents \n",
            "\n",
            " \n",
            "\n",
            " \n",
            "1.0 Definitions .......................................................................................................................... 3 \n",
            "\n",
            "2.0  Introduction...................................................................................................................... 5 \n",
            "\n",
            "2.1  Intent ............................................................................................................................ 5 \n",
            "\n",
            "2.2  Scope ............................................................................................................................ 5 \n",
            "\n",
            "2.3  Legal Considerations .......................................................................................................\n"
          ]
        }
      ]
    },
    {
      "cell_type": "markdown",
      "metadata": {
        "id": "eSLKSqDve1rR"
      },
      "source": [
        "## Exemplo: DOC"
      ]
    },
    {
      "cell_type": "code",
      "metadata": {
        "id": "0AEzx-zaesGN",
        "colab": {
          "base_uri": "https://localhost:8080/"
        },
        "outputId": "87228c2c-08a5-4db9-a75b-d7a1aa39c0f5"
      },
      "source": [
        "response = requests.get('https://pasteur.epa.gov/uploads/10.23719/1500001/LDPE_nanoclay_Highlights_.docx')\n",
        "results = parser.from_buffer(response)\n",
        "print(results['content'].strip())"
      ],
      "execution_count": 12,
      "outputs": [
        {
          "output_type": "stream",
          "name": "stdout",
          "text": [
            "Highlights \n",
            "\n",
            "Evaluating Weathering of Food Packaging Polyethylene-Nano-clay Composites: Release of Nanoparticles and their Impacts\n",
            "\n",
            "Changseok Han1, Amy Zhao1, and Eunice Varughese2, E. Sahle-Demessie*1\n",
            "\n",
            "\n",
            "\n",
            "\n",
            "1. UV or O3 degradation food packaging composites released nanoclay particles. \n",
            "2. Properties of nanocomposites changed during accelerated weathering.\n",
            "3. Nanoclay release was proportional to weathering time.\n",
            "4. Toxicity of released nanoclay at test concentrations were not significant.\n"
          ]
        }
      ]
    },
    {
      "cell_type": "markdown",
      "metadata": {
        "id": "ZeLdSDsge7-X"
      },
      "source": [
        "## Exemplo: Imagem (OCR)"
      ]
    },
    {
      "cell_type": "code",
      "metadata": {
        "id": "Zmz2l7NTe48g",
        "colab": {
          "base_uri": "https://localhost:8080/"
        },
        "outputId": "c1d84c6c-eff2-4087-f08e-0715e1e461be"
      },
      "source": [
        "response = requests.get('https://upload.wikimedia.org/wikipedia/commons/5/5f/Dr._Jekyll_and_Mr._Hyde_Text.jpg')\n",
        "results = parser.from_buffer(response)\n",
        "results['status']"
      ],
      "execution_count": 13,
      "outputs": [
        {
          "output_type": "execute_result",
          "data": {
            "text/plain": [
              "200"
            ]
          },
          "metadata": {},
          "execution_count": 13
        }
      ]
    },
    {
      "cell_type": "code",
      "metadata": {
        "id": "H2YZWUbNe_oP",
        "colab": {
          "base_uri": "https://localhost:8080/"
        },
        "outputId": "6fe7f4bf-0586-4b14-a56e-332c0b0b3389"
      },
      "source": [
        "print(results['content'].strip())"
      ],
      "execution_count": 14,
      "outputs": [
        {
          "output_type": "stream",
          "name": "stdout",
          "text": [
            "at his touch ofa certain icy pang along my blood. “Come, sir,’ said I.\n",
            "“You forget that I have not yet the pleasure of your acquaintance. Be\n",
            "seated, if you please.” And I showed him an example, and sat down\n",
            "myself in my customary seat and with as fair an imitation of my or-\n",
            "dinary manner to a patient, as the lateness of the hour, the nature of\n",
            "my preoccupations, and the horror I had of my visitor, would suffer\n",
            "me to muster.\n",
            "\n",
            "“I beg your pardon, Dr. Lanyon,” he replied civilly enough. “What\n",
            "you say is very well founded; and my impatience has shown its heels\n",
            "to my politeness. I come here at the instance of your colleague, Dr.\n",
            "Henry Jekyll, on a piece of business of some moment; and I under-\n",
            "stood...” He paused and put his hand to his throat, and I could see,\n",
            "in spite of his collected manner, that he was wrestling against the\n",
            "approaches of the hysteria—“I understood, a drawer...”\n",
            "\n",
            "But here I took pity on my visitor’s suspense, and some perhaps\n",
            "on my own growing curiosity.\n",
            "\n",
            "“There it is, sir,” said I, pointing to the drawer, where it lay on the\n",
            "floor behind a table and still covered with the sheet.\n",
            "\n",
            "He sprang to it, and then paused, and laid his hand upon his\n",
            "heart: I could hear his teeth grate with the convulsive action of his\n",
            "jaws; and his face was so ghastly to see that I grew alarmed both for\n",
            "his life and reason.\n",
            "\n",
            "“Compose yourself,’ said I.\n",
            "\n",
            "He turned a dreadful smile to me, and as if with the decision of\n",
            "despair, plucked away the sheet. At sight of the contents, he uttered\n",
            "one loud sob of such immense relief that I sat petrified. And the\n",
            "next moment, in a voice that was already fairly well under control,\n",
            "“Have you a graduated glass?” he asked.\n",
            "\n",
            "I rose from my place with something of an effort and gave him\n",
            "what he asked.\n",
            "\n",
            "He thanked me with a smiling nod, measured out a few min-\n",
            "ims of the red tincture and added one of the powders. The mix-\n",
            "ture, which was at first of a reddish hue, began, in proportion as the\n"
          ]
        }
      ]
    },
    {
      "cell_type": "markdown",
      "metadata": {
        "id": "j3LUquX0fbZ1"
      },
      "source": [
        "## Imagem em Português\n",
        "![alt text](https://upload.wikimedia.org/wikipedia/commons/thumb/9/9c/Livro_de_uma_sogra.djvu/page45-552px-Livro_de_uma_sogra.djvu.jpg)"
      ]
    },
    {
      "cell_type": "code",
      "metadata": {
        "id": "_nx5iTKrfB_i",
        "colab": {
          "base_uri": "https://localhost:8080/"
        },
        "outputId": "74ef378f-f1ea-4f02-e142-0d58fc8ca092"
      },
      "source": [
        "headers = {'User-Agent': 'Mozilla/5.0 (Macintosh; Intel Mac OS X 10_11_5) AppleWebKit/537.36 (KHTML, like Gecko) Chrome/50.0.2661.102 Safari/537.36'}\n",
        "response = requests.get('https://upload.wikimedia.org/wikipedia/commons/thumb/9/9c/Livro_de_uma_sogra.djvu/page45-552px-Livro_de_uma_sogra.djvu.jpg',\n",
        "                        headers=headers)\n",
        "\n",
        "results = parser.from_buffer(response)\n",
        "print(results['content'].strip())"
      ],
      "execution_count": 20,
      "outputs": [
        {
          "output_type": "stream",
          "name": "stdout",
          "text": [
            "Livao DE UMA socRa a\n",
            "\n",
            " \n",
            "\n",
            " \n",
            "\n",
            "quanto ella, mas que eu s6 avaliava por con-\n",
            "jecturas, e cujo perfume de cabello ou cheiro\n",
            "de corpo nunca me tinham sido revelados na\n",
            "intimidade da posse, impunha-se despotica-\n",
            "mente aos meus culposos sentidos, accordan-\n",
            "do-me amores fogosos ¢ energicos, como os jé\n",
            "no accordava a minha bonita companheira.\n",
            "Oh I que me perdées, Olympia, as vezes\n",
            "que em ti matei desejos que vinham de outras\n",
            "mulheres !\n",
            "<E, emconsciencia, no sera isto j4o\n",
            "adulterio ? A idéa do toque amoroso com outra,\n",
            "que nao seja a propria esposa, no seré uma\n",
            "traigio conjugal ? Castusest qui amorem amo-\n",
            "re, ignemque igne excludit, diz Santo Ago:\n",
            "tinho. Se assim ¢, hade ser difficil descobrie\n",
            "‘um casal que se no adultere de parte a parte,\n",
            "_pois estou bem convencido de que com minha\n",
            "mulher, por excellencia virtuosa, devia succe-\n",
            "der outro tanto; assim como estou ampla~\n",
            "mente convencido de que tudo, tudo que em\n",
            "mim observei, se verificou tambem com ella. »\n",
            "\n",
            " \n",
            "\n",
            " \n",
            "\n",
            " \n",
            "\n",
            "Ahi termina 0 trecho das notas de mew\n",
            "marido, Elle tinha razdo: Amei-o e desejei-o\n"
          ]
        }
      ]
    },
    {
      "cell_type": "markdown",
      "metadata": {
        "id": "xTDcwpBmgA4s"
      },
      "source": [
        "**O que deu errado?**\n",
        "\n",
        "Ajustar o idioma do tesseract!"
      ]
    },
    {
      "cell_type": "code",
      "metadata": {
        "id": "9V56V5BGfyhK",
        "colab": {
          "base_uri": "https://localhost:8080/"
        },
        "outputId": "28c61f75-2d42-42f8-e91a-78e358ccdb65"
      },
      "source": [
        "response = requests.get('https://upload.wikimedia.org/wikipedia/commons/thumb/9/9c/Livro_de_uma_sogra.djvu/page45-552px-Livro_de_uma_sogra.djvu.jpg',\n",
        "                        headers=headers)\n",
        "results = parser.from_buffer(response, headers={\n",
        "    \"X-Tika-OCRLanguage\": \"por\"\n",
        "})\n",
        "print(results['content'].strip())"
      ],
      "execution_count": 21,
      "outputs": [
        {
          "output_type": "stream",
          "name": "stdout",
          "text": [
            "LAVRO DE UMA SOGRA q\n",
            "\n",
            " \n",
            "\n",
            " \n",
            "\n",
            "quanto ella, mas que eu só avaliava por con-\n",
            "jecturas, e cujo perfume de cabello ou cheiro\n",
            "de corpo nunca me tinham sido revelados na\n",
            "intimidade da posse, impunha-se despotica-\n",
            "mente aos meus culposos sentidos, accordan-\n",
            "do-me amores fogosos e energicos, como os já\n",
            "não accordava a minha bonita companheira.\n",
            "\n",
            "«Oh! que me perdões, Olympia, as vezes\n",
            "que em ti matei desejos que vinham de outras\n",
            "mulheres!\n",
            "\n",
            "«E, em consciencia, não será isto já o\n",
            "adulterio ? A idéa do toque amoroso com outra\n",
            "que não seja a propria esposa, não será uma\n",
            "traição conjugal? Castus est qui amorem amo-\n",
            "rey ignemque igne excludit, diz Santo Agos\n",
            "tinho. Se assim é, hade ser difficil descobrir\n",
            "um casal que se não adultere de parte a parte,\n",
            "- pois estou bem convencido de que com minha\n",
            "mulher, por excellencia virtuosa, devia succe-\n",
            "der outro tanto; assim como estou ampla-\n",
            "mente convencido de que tudo, tudo que em\n",
            "mim observei, se verificou tambem com ella. »\n",
            "\n",
            " \n",
            "\n",
            " \n",
            "\n",
            " \n",
            "\n",
            "Ahi termina o trecho das notas de meu\n",
            "marido, Elle tinha razão : Amei-o e desejei-o\n"
          ]
        }
      ]
    },
    {
      "cell_type": "code",
      "source": [
        ""
      ],
      "metadata": {
        "id": "5613d1CGs5P7"
      },
      "execution_count": null,
      "outputs": []
    }
  ]
}